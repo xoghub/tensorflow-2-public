{
  "nbformat": 4,
  "nbformat_minor": 0,
  "metadata": {
    "accelerator": "GPU",
    "colab": {
      "name": "C3_W1_Assignment.ipynb",
      "provenance": [],
      "include_colab_link": true
    },
    "coursera": {
      "schema_names": [
        "tensorflow-datasets-w1"
      ]
    },
    "kernelspec": {
      "display_name": "Python 3",
      "language": "python",
      "name": "python3"
    },
    "language_info": {
      "codemirror_mode": {
        "name": "ipython",
        "version": 3
      },
      "file_extension": ".py",
      "mimetype": "text/x-python",
      "name": "python",
      "nbconvert_exporter": "python",
      "pygments_lexer": "ipython3",
      "version": "3.8.5"
    }
  },
  "cells": [
    {
      "cell_type": "markdown",
      "metadata": {
        "id": "view-in-github",
        "colab_type": "text"
      },
      "source": [
        "<a href=\"https://colab.research.google.com/github/xoghub/tensorflow-2-public/blob/main/C3_Data-pipelines/W1/assignment/C3_W1_Assignment.ipynb\" target=\"_parent\"><img src=\"https://colab.research.google.com/assets/colab-badge.svg\" alt=\"Open In Colab\"/></a>"
      ]
    },
    {
      "cell_type": "markdown",
      "metadata": {
        "id": "q1r94VUw80m9"
      },
      "source": [
        "### Step 0 - Setup\n",
        "\n",
        "**Note** : The assignment uses TF version 2 so if you run this notebook on TF 1.x, some things might not work."
      ]
    },
    {
      "cell_type": "code",
      "metadata": {
        "id": "O9tHqv3u8nkZ"
      },
      "source": [
        "from os import getcwd\n",
        "\n",
        "import tensorflow as tf\n",
        "import tensorflow_datasets as tfds"
      ],
      "execution_count": 1,
      "outputs": []
    },
    {
      "cell_type": "markdown",
      "metadata": {
        "id": "f6vH4pRk8nka"
      },
      "source": [
        "### Step 1 - One-Hot Encoding\n",
        "\n",
        "Remember to one hot encode the labels as you have 3 classes - Rock, Paper and Scissors.\n",
        "You can use Tensorflow's one_hot function ([`tf.one_hot`](https://www.tensorflow.org/api_docs/python/tf/one_hot)) to convert categorical variables to one-hot vectors.\n",
        "\n",
        "Useful parameters -\n",
        "1. `indices` - A tensor containing all indices\n",
        "2. `depth` - A scalar defining the depth of the one hot dimension.\n"
      ]
    },
    {
      "cell_type": "code",
      "metadata": {
        "id": "r3QZ5vp28nka",
        "outputId": "0759805a-dbad-4700-e7a6-8adeba330893",
        "colab": {
          "base_uri": "https://localhost:8080/"
        }
      },
      "source": [
        "# EXERCISE: encoding the labels using your own function for one-hot encoding\n",
        "\n",
        "def my_one_hot(feature, label):\n",
        "    # Encode the labels to one-hot using tf.one_hot with depth equal to total\n",
        "    # number of classes here which are rock, paper and scissors\n",
        "\n",
        "    one_hot = tf.one_hot(indices=label, depth=3)\n",
        "    return feature, one_hot\n",
        "\n",
        "# TESTING THE FUNCTION\n",
        "_,one_hot = my_one_hot([\"a\",\"b\",\"c\",\"a\"],[1,2,3,1])\n",
        "print(one_hot)\n"
      ],
      "execution_count": 2,
      "outputs": [
        {
          "output_type": "stream",
          "name": "stdout",
          "text": [
            "tf.Tensor(\n",
            "[[0. 1. 0.]\n",
            " [0. 0. 1.]\n",
            " [0. 0. 0.]\n",
            " [0. 1. 0.]], shape=(4, 3), dtype=float32)\n"
          ]
        }
      ]
    },
    {
      "cell_type": "markdown",
      "metadata": {
        "id": "yINlAX_98nka"
      },
      "source": [
        "#### Expected Output\n",
        "```\n",
        "tf.Tensor(\n",
        "[[0. 1. 0.]\n",
        " [0. 0. 1.]\n",
        " [0. 0. 0.]\n",
        " [0. 1. 0.]], shape=(4, 3), dtype=float32)\n",
        " ```"
      ]
    },
    {
      "cell_type": "markdown",
      "metadata": {
        "id": "NzPFbTls8nka"
      },
      "source": [
        "### Step 2 - Loading Dataset\n",
        "\n",
        "You will be using [`tfds.load()`](https://www.tensorflow.org/datasets/api_docs/python/tfds/load)] method to load the dataset. The dataset is already downloaded and unzipped for you in the data folder but if you are running on your local machine and do not have the dataset downloaded, it will first download and save the dataset to your tensorflow directory and then load it.\n",
        "\n",
        "Useful parameters -\n",
        "1. `split` - Which split of the data to load (e.g. 'train', 'test' ['train', 'test'], 'train[80%:]',...)\n",
        "\n",
        "2. `data_dir` - Directory to read/write data. Defaults to the value of the environment variable _TFDS_DATA_DIR_, if set, otherwise falls back to \"~/tensorflow_datasets\"\n",
        "\n",
        "3. `as_supervised`- If True, the returned tf.data.Dataset will have a 2-tuple structure (input, label) according to builder.info.supervised_keys. If False the default, the returned tf.data.Dataset will have a dictionary with all the features\n",
        "\n",
        "**Note** - The`rock_paper_scissors:3.*.*` dataset is already downloaded for you so if you specify the major version this way while loading, it will try to find the dataset from the directory and load it. If none is present or the current dataset has been upgraded to a new major version, then it will try to download the new dataset to the directory."
      ]
    },
    {
      "cell_type": "code",
      "metadata": {
        "id": "7EZtQBxK8nkb",
        "outputId": "73619f54-3aad-465a-a001-63d0481a3de2",
        "colab": {
          "base_uri": "https://localhost:8080/"
        }
      },
      "source": [
        "# EXERCISE: Loading the rock, paper and scissors train and test dataset using tfds.load.\n",
        "\n",
        "# Use data_dir=filepath as the dataset is already downloaded for you\n",
        "\n",
        "# use 'filePath' if you are running on Coursera, ignore 'filePath' if you are running on Colab or your local machine\n",
        "filePath = f\"{getcwd()}/data\"\n",
        "\n",
        "train_data = tfds.load(name='rock_paper_scissors:3.*.*',data_dir=filePath, split='train', as_supervised=True)\n",
        "val_data = tfds.load(name='rock_paper_scissors:3.*.*',data_dir=filePath, split='test', as_supervised=True)\n",
        "\n",
        "# Testing train_data and val_data if loaded correctly\n",
        "\n",
        "train_data_len = len(list(train_data))\n",
        "val_data_len = len(list(val_data))\n",
        "\n",
        "print(train_data_len)\n",
        "print(val_data_len)"
      ],
      "execution_count": 20,
      "outputs": [
        {
          "output_type": "stream",
          "name": "stdout",
          "text": [
            "2520\n",
            "372\n"
          ]
        }
      ]
    },
    {
      "cell_type": "markdown",
      "metadata": {
        "id": "POfTR6Ow8nkb"
      },
      "source": [
        "#### Expected Output\n",
        "```\n",
        "2520\n",
        "372\n",
        " ```"
      ]
    },
    {
      "cell_type": "markdown",
      "metadata": {
        "id": "pq4p4M9C8nkc"
      },
      "source": [
        "### Step 3 - Mapping one hot encode function to dataset\n",
        "\n",
        "You will apply the `my_one_hot()` encoding function to the train and validation data using [`map`](https://www.tensorflow.org/api_docs/python/tf/data/Dataset#map) function. It will apply the custom function to each element of the  dataset and returns a new dataset containing the transformed elements in the same order as they appeared in the input."
      ]
    },
    {
      "cell_type": "code",
      "metadata": {
        "id": "4skEJsdt8nkc",
        "outputId": "1d21d82d-59bb-4031-aea0-2782bb0f1f5f",
        "colab": {
          "base_uri": "https://localhost:8080/"
        }
      },
      "source": [
        "# EXERCISE: one-hot encode the train and validation labels using the function you defined earlier\n",
        "\n",
        "# HINT - use map function https://www.tensorflow.org/api_docs/python/tf/data/Dataset#map\n",
        "\n",
        "train_data = train_data.map(my_one_hot)\n",
        "val_data = val_data.map(my_one_hot)\n",
        "\n",
        "print(type(train_data))"
      ],
      "execution_count": 21,
      "outputs": [
        {
          "output_type": "stream",
          "name": "stdout",
          "text": [
            "<class 'tensorflow.python.data.ops.map_op._MapDataset'>\n"
          ]
        }
      ]
    },
    {
      "cell_type": "markdown",
      "metadata": {
        "id": "yIcMztvz8nkc"
      },
      "source": [
        "#### Expected Output\n",
        "```\n",
        "<class 'tensorflow.python.data.ops.dataset_ops.MapDataset'>\n",
        " ```"
      ]
    },
    {
      "cell_type": "markdown",
      "metadata": {
        "id": "lrsTKJEz8nkc"
      },
      "source": [
        "### Step 4 - Exploring dataset metadata\n",
        "\n",
        "Do remember that [`tfds.load()`](https://www.tensorflow.org/datasets/api_docs/python/tfds/load) has a parameter called `with_info` which if True will return the tuple (tf.data.Dataset, tfds.core.DatasetInfo) containing the info associated with the builder."
      ]
    },
    {
      "cell_type": "code",
      "metadata": {
        "id": "wb8o45GA8nkd",
        "outputId": "7c4c948e-369c-4476-d6a0-fcd4391ffbe8",
        "colab": {
          "base_uri": "https://localhost:8080/"
        }
      },
      "source": [
        "# EXERCISE: Check the information about the dataset to see the dataset image shape\n",
        "\n",
        "# HINT: Use with_info=True and data_dir (use 'data_dir' if running on Coursera, otherwise skip that parameter)\n",
        "_,info = tfds.load(name='rock_paper_scissors:3.*.*',with_info=True, data_dir=filePath)\n",
        "\n",
        "# DO NOT EDIT THIS\n",
        "print(info.features['image'].shape)"
      ],
      "execution_count": 25,
      "outputs": [
        {
          "output_type": "stream",
          "name": "stdout",
          "text": [
            "(300, 300, 3)\n"
          ]
        }
      ]
    },
    {
      "cell_type": "markdown",
      "metadata": {
        "id": "2l2aQePv8nkd"
      },
      "source": [
        "## Expected Output\n",
        "```\n",
        "(300, 300, 3)\n",
        "\n",
        " ```"
      ]
    },
    {
      "cell_type": "markdown",
      "metadata": {
        "id": "i6wmrUGs8nkd"
      },
      "source": [
        "### Step 5 - Training your simple CNN classifier\n",
        "\n",
        "Now you will define a simple 1-layer CNN model which will learn to classify the images into rock, paper and scissor!\n"
      ]
    },
    {
      "cell_type": "code",
      "metadata": {
        "id": "iSq4t32ZHHpt",
        "outputId": "ef60e6bb-974b-410e-df9e-62479c186455",
        "colab": {
          "base_uri": "https://localhost:8080/"
        }
      },
      "source": [
        "# EXERCISE: Train a simple CNN model on the dataset\n",
        "\n",
        "train_batches = train_data.shuffle(100).batch(10)\n",
        "validation_batches = val_data.batch(32)\n",
        "\n",
        "model = tf.keras.models.Sequential([\n",
        "    tf.keras.layers.Conv2D(16, (3, 3), activation='relu', input_shape=(300,300,3)),\n",
        "    # YOUR CODE HERE - Add a maxpool2d layer with kernel (2,2)\n",
        "    tf.keras.layers.MaxPooling2D(2,2),\n",
        "    # YOUR CODE HERE - Add a flatten layer\n",
        "    tf.keras.layers.Flatten(),\n",
        "    tf.keras.layers.Dense(128, activation='relu'),\n",
        "    tf.keras.layers.Dense(3, activation='softmax')\n",
        "])\n",
        "\n",
        "model.summary()\n"
      ],
      "execution_count": 27,
      "outputs": [
        {
          "output_type": "stream",
          "name": "stdout",
          "text": [
            "Model: \"sequential\"\n",
            "_________________________________________________________________\n",
            " Layer (type)                Output Shape              Param #   \n",
            "=================================================================\n",
            " conv2d_1 (Conv2D)           (None, 298, 298, 16)      448       \n",
            "                                                                 \n",
            " max_pooling2d (MaxPooling2  (None, 149, 149, 16)      0         \n",
            " D)                                                              \n",
            "                                                                 \n",
            " flatten (Flatten)           (None, 355216)            0         \n",
            "                                                                 \n",
            " dense (Dense)               (None, 128)               45467776  \n",
            "                                                                 \n",
            " dense_1 (Dense)             (None, 3)                 387       \n",
            "                                                                 \n",
            "=================================================================\n",
            "Total params: 45468611 (173.45 MB)\n",
            "Trainable params: 45468611 (173.45 MB)\n",
            "Non-trainable params: 0 (0.00 Byte)\n",
            "_________________________________________________________________\n"
          ]
        }
      ]
    },
    {
      "cell_type": "markdown",
      "metadata": {
        "id": "pCH-5UT88nke"
      },
      "source": [
        "# Submission Instructions"
      ]
    },
    {
      "cell_type": "code",
      "metadata": {
        "id": "XTi8sPqu8nkf"
      },
      "source": [
        "# Now click the 'Submit Assignment' button above."
      ],
      "execution_count": null,
      "outputs": []
    },
    {
      "cell_type": "markdown",
      "metadata": {
        "id": "jkt1TG328nkf"
      },
      "source": [
        "### [Optional] Step 6 - Evaluation\n",
        "\n",
        "***Remember to submit your assignment before you uncomment and run the next cell.***"
      ]
    },
    {
      "cell_type": "code",
      "metadata": {
        "id": "si9y93Xr8nkf",
        "outputId": "93d58c27-17fd-4b3a-eeb6-bf370eae208d",
        "colab": {
          "base_uri": "https://localhost:8080/"
        }
      },
      "source": [
        "# # OPTIONAL EXERCISE: Compile and fit your model - use categorical loss and choose optimizer as Adam\n",
        "\n",
        "EPOCH = 3\n",
        "\n",
        "# # You should get decent enough training accuracy in 3-4 epochs itself as this one layer model will heavily overfit\n",
        "\n",
        "model.compile(optimizer='Adam', loss='categorical_crossentropy', metrics=['accuracy'])\n",
        "\n",
        "history = model.fit(train_batches, epochs= EPOCH , validation_data=validation_batches, validation_steps=1)\n",
        "\n",
        "print(\"Final Training Accuracy:-\",history.history['accuracy'][-1])\n",
        "print(\"Final Validation Accuracy:-\",history.history['val_accuracy'][-1])"
      ],
      "execution_count": 30,
      "outputs": [
        {
          "output_type": "stream",
          "name": "stdout",
          "text": [
            "Epoch 1/3\n",
            "252/252 [==============================] - 15s 21ms/step - loss: 1346.0510 - accuracy: 0.5972 - val_loss: 42.2274 - val_accuracy: 0.4688\n",
            "Epoch 2/3\n",
            "252/252 [==============================] - 5s 21ms/step - loss: 15.7452 - accuracy: 0.7690 - val_loss: 68.8144 - val_accuracy: 0.4688\n",
            "Epoch 3/3\n",
            "252/252 [==============================] - 5s 20ms/step - loss: 4.5479 - accuracy: 0.9044 - val_loss: 240.9831 - val_accuracy: 0.4375\n",
            "Final Training Accuracy:- 0.904365062713623\n",
            "Final Validation Accuracy:- 0.4375\n"
          ]
        }
      ]
    },
    {
      "cell_type": "markdown",
      "metadata": {
        "id": "6pYYIdAO8nkf"
      },
      "source": [
        "# When you're done or would like to take a break, please run the two cells below to save your work and close the Notebook. This frees up resources for your fellow learners."
      ]
    },
    {
      "cell_type": "code",
      "metadata": {
        "id": "RBpzAfBF8nkh"
      },
      "source": [
        "%%javascript\n",
        "<!-- Save the notebook -->\n",
        "IPython.notebook.save_checkpoint();"
      ],
      "execution_count": null,
      "outputs": []
    },
    {
      "cell_type": "code",
      "metadata": {
        "id": "YxwyA9xe8nkh"
      },
      "source": [
        "%%javascript\n",
        "<!-- Shutdown and close the notebook -->\n",
        "window.onbeforeunload = null\n",
        "window.close();\n",
        "IPython.notebook.session.delete();"
      ],
      "execution_count": null,
      "outputs": []
    }
  ]
}